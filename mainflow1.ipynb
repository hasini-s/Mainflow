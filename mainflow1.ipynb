{
  "nbformat": 4,
  "nbformat_minor": 0,
  "metadata": {
    "colab": {
      "provenance": []
    },
    "kernelspec": {
      "name": "python3",
      "display_name": "Python 3"
    },
    "language_info": {
      "name": "python"
    }
  },
  "cells": [
    {
      "cell_type": "code",
      "execution_count": 1,
      "metadata": {
        "colab": {
          "base_uri": "https://localhost:8080/"
        },
        "id": "SSrVPgPgiovK",
        "outputId": "e0e85edc-20ce-4d71-92de-845b53c775af"
      },
      "outputs": [
        {
          "output_type": "stream",
          "name": "stdout",
          "text": [
            "new_list: [1, 2, 7, 5, 6]\n"
          ]
        }
      ],
      "source": [
        "#creating a list\n",
        "my_list=[1,2,3,4,5]\n",
        "\n",
        "#adding elements to list\n",
        "my_list.append(6)\n",
        "\n",
        "#removing elements from list\n",
        "my_list.remove(3)\n",
        "\n",
        "#modifying elements in list\n",
        "my_list[2]=7\n",
        "\n",
        "print(\"new_list:\",my_list)"
      ]
    },
    {
      "cell_type": "code",
      "source": [
        "#creating a dictionary\n",
        "my_dict={'name':'hasini','age':25,'city':'Delhi'}\n",
        "\n",
        "#adding elements to dictionary\n",
        "my_dict['gender']='Female'\n",
        "\n",
        "#removing elements from dictionary\n",
        "del my_dict['age']\n",
        "\n",
        "#modifying elements in dictionary\n",
        "my_dict['city']='Mumbai'\n",
        "\n",
        "print(\"new dictionary:\",my_dict)"
      ],
      "metadata": {
        "colab": {
          "base_uri": "https://localhost:8080/"
        },
        "id": "NSyyfGPokoBL",
        "outputId": "de6f5751-c24a-43e7-ee69-b624a0ef90d5"
      },
      "execution_count": 3,
      "outputs": [
        {
          "output_type": "stream",
          "name": "stdout",
          "text": [
            "new dictionary: {'name': 'hasini', 'city': 'Mumbai', 'gender': 'Female'}\n"
          ]
        }
      ]
    },
    {
      "cell_type": "code",
      "source": [
        "#creating a set\n",
        "my_set={1,2,3,4,5}\n",
        "\n",
        "#adding elements to set\n",
        "my_set.add(6)\n",
        "\n",
        "#removing elements from set\n",
        "my_set.remove(3)\n",
        "\n",
        "#modifying elements in set\n",
        "my_set.discard(1)\n",
        "my_set.add(10)\n",
        "\n",
        "print(\"new_set:\",my_set)"
      ],
      "metadata": {
        "colab": {
          "base_uri": "https://localhost:8080/"
        },
        "id": "rpgLI9SZljzE",
        "outputId": "31a0e3f1-df87-4f34-b18f-1b8ccc1a09a3"
      },
      "execution_count": 4,
      "outputs": [
        {
          "output_type": "stream",
          "name": "stdout",
          "text": [
            "new_set: {2, 4, 5, 6, 10}\n"
          ]
        }
      ]
    },
    {
      "cell_type": "code",
      "source": [],
      "metadata": {
        "id": "QygQ-Qx0mRm7"
      },
      "execution_count": null,
      "outputs": []
    }
  ]
}